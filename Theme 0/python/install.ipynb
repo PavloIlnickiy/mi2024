{
 "cells": [
  {
   "cell_type": "code",
   "execution_count": null,
   "id": "f7441d3b",
   "metadata": {},
   "outputs": [],
   "source": [
    "%pip install pandas"
   ]
  }
 ],
 "metadata": {
  "kernelspec": {
   "display_name": "Python 3",
   "language": "python",
   "name": "python3"
  },
  "language_info": {
   "name": "python",
   "version": "3.11.9"
  }
 },
 "nbformat": 4,
 "nbformat_minor": 5
}
